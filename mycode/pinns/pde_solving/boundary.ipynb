{
 "cells": [
  {
   "cell_type": "markdown",
   "metadata": {},
   "source": [
    "# Boundary value problems"
   ]
  },
  {
   "cell_type": "markdown",
   "metadata": {},
   "source": [
    "---\n",
    "Notes following [this book](https://websites.umich.edu/~mejn/cp/index.html).\n",
    "\n",
    "Say we want to find the solution to a partial differential equation (PDE) given values at the boundary. One technique we can use is the finite differences method, which divides the region up into a grid of discrete points."
   ]
  },
  {
   "cell_type": "markdown",
   "metadata": {},
   "source": [
    "Suppose we want to find the electric potential $\\phi$ within an empty square region that has one wall at voltage $V$ and the others at zero. \n",
    "\n",
    "We know that \n",
    "\n",
    "$$\n",
    "\\vec{E} = - \\nabla \\phi\n",
    "$$\n",
    "\n",
    "where $\\vec{E}$, the electric field vector, is given by the negative gradient of the electric potential. By Gauss's Law, we also know that\n",
    "\n",
    "$$\n",
    "\\nabla \\cdot \\vec{E} = \\frac{\\rho}{\\epsilon_0}\n",
    "$$\n",
    "\n",
    "where $\\epsilon_0$ is the permittivity of free space and $\\rho$ is the electric charge density distribution. In our case, since the box is empty, it contains no charge. Thus\n",
    "\n",
    "$$\n",
    "\\nabla \\cdot \\vec{E} = 0\n",
    "$$\n",
    "\n",
    "Then combining these equations, we get Laplace's equation\n",
    "\n",
    "\\begin{align*}\n",
    "\\nabla \\phi &= -\\vec{E} \\\\\n",
    "\\nabla \\cdot \\nabla \\phi &= - \\nabla \\cdot \\vec{E} \\\\\n",
    "\\nabla^2 \\phi &= 0 \\\\\n",
    "\\end{align*}\n",
    "\n",
    "In two dimensions, the Laplacian operator takes the form\n",
    "\n",
    "$$\n",
    "\\nabla^2 = \\frac{\\partial^2}{\\partial x^2} + \\frac{\\partial^2}{\\partial y^2}\n",
    "$$\n",
    "\n",
    "So that\n",
    "\n",
    "$$\n",
    "\\nabla^2 \\phi = \\frac{\\partial^2 \\phi}{\\partial x^2} + \\frac{\\partial^2 \\phi}{\\partial y^2} = 0\n",
    "$$\n",
    "\n",
    "The goal is to solve for $\\phi(x,y)$ within the box given that $\\phi = V$ on the top edge, and $\\phi = 0$ on the other three edges. \n",
    "\n",
    "\n",
    "Before solving the pde, we need to do is find a numerical way to approximate second partial derivatives. We can start out by finding the numerical approximation for a full derivative."
   ]
  },
  {
   "cell_type": "markdown",
   "metadata": {},
   "source": [
    "---\n",
    "\n",
    "## Numerical differentiation interlude\n",
    "\n",
    "### First derivatives \n",
    "\n",
    "The definition of the derivative for a function $f(x)$ with respect to $x$ is simply\n",
    "\n",
    "$$\n",
    "\\frac{df}{dx} = \\lim_{h \\rightarrow 0} \\frac{f(x + h) - f(x)}{h}\n",
    "$$\n",
    "\n",
    "The definition of a partial derivative $f(x, y)$ with respect to $x$ is\n",
    "$$\n",
    "\\frac{\\partial f}{\\partial x} = \\lim_{h \\rightarrow 0} \\frac{f(x + h, y) - f(x, y)}{h}\n",
    "$$\n",
    "\n",
    "Given a small step $h$, the *forward difference* method for approximating a full derivative uses a point $x+h$ in front of $x$:\n",
    "$$\n",
    "\\frac{df}{dx} \\approx \\frac{f(x + h) - f(x)}{h}\n",
    "$$\n",
    "\n",
    "We could instead look back a small amount $h$ from $x$, using the *backward difference* method:\n",
    "$$\n",
    "\\frac{df}{dx} \\approx \\frac{f(x) - f(x - h)}{h}\n",
    "$$\n",
    "\n",
    "The *central difference* method improves upon the prior methods by looking forward and backward a small amount $\\frac{h}{2}$ symmetrically around $x$:\n",
    "$$ \n",
    "\\frac{df}{dx} \\approx \\frac{f(x + \\frac{h}{2}) - f(x - \\frac{h}{2})}{h}\n",
    "$$\n",
    "\n",
    "### Second derivatives\n",
    "\n",
    "By taking the derivative of a first derivative, we get a second derivative. We can numerically approximate a second derivative using the *central difference* method. \n",
    "\n",
    "Let's first consider the *central difference* derivative at a point $x + \\frac{h}{2}$:\n",
    "\n",
    "$$ \n",
    "f'(x + h/2) \\approx \\frac{f(x + \\frac{h}{2} + \\frac{h}{2}) - f(x + \\frac{h}{2} - \\frac{h}{2})}{h} = \\frac{f(x + h) - f(x)}{h}\n",
    "$$\n",
    "\n",
    "And next at a point $x - \\frac{h}{2}$:\n",
    "\n",
    "$$ \n",
    "f'(x - h/2) \\approx \\frac{f(x - \\frac{h}{2} + \\frac{h}{2}) - f(x - \\frac{h}{2} - \\frac{h}{2})}{h} = \\frac{f(x) - f(x - h)}{h}\n",
    "$$\n",
    "\n",
    "We see that we have sort of recovered the forward and backward difference derivatives.\n",
    "\n",
    "This is great! Recall that we originally formulated the *central difference* approximation of the first derivative using $f(x \\pm \\frac{h}{2})$. Now that we have expressions for $f'(x \\pm \\frac{h}{2})$, we can similarly approximate the second derivative using the *central difference* method:\n",
    "\n",
    "$$ \n",
    "f''(x) \\approx \\frac{f'(x + \\frac{h}{2}) - f'(x - \\frac{h}{2})}{h} = \\frac{\\frac{f(x + h) - f(x)}{h} - \\frac{f(x) - f(x - h)}{h}}{h} = \\frac{f(x + h) - 2f(x) + f(x - h)}{h^2}\n",
    "$$\n",
    "\n",
    "We can similarly write down the second partial derivative of $f(x, y)$ with respect to $x$ as\n",
    "\n",
    "$$ \n",
    "\\frac{\\partial^2 f}{\\partial x^2} \\approx  \\frac{f(x + h) - 2f(x) + f(x - h)}{h^2} = \\frac{f(x + h) + f(x - h) - 2f(x)}{h^2}\n",
    "$$\n",
    "\n",
    "The proof is left as an exercise to the reader :)"
   ]
  },
  {
   "cell_type": "markdown",
   "metadata": {},
   "source": [
    "---\n",
    "## The method of relaxation (Jacobi method)\n",
    "\n",
    "Returning to our original problem, we want to solve for $\\phi(x,y)$ within the box given that $\\phi = V$ on the top edge, and $\\phi = 0$ on the other three edges. \n",
    "\n",
    "Let's set up a grid of points within the box, including the boundary, a distance $a$ apart (L1 distance). Recall that we applied the Laplacian operator to $\\phi$ to find how the electric potential is characterized within the box\n",
    "$$\n",
    "\\nabla^2 \\phi = \\frac{\\partial^2 \\phi}{\\partial x^2} + \\frac{\\partial^2 \\phi}{\\partial y^2} = 0\n",
    "$$\n",
    "\n",
    "Using what we learned above about second derivatives, we can write down the partial derivatives with respect to $x$ and $y$, respectively, as\n",
    "$$ \n",
    "\\frac{\\partial^2 \\phi}{\\partial x^2} \\approx  \\frac{\\phi(x + a, y)  + \\phi(x - a, y) - 2\\phi(x, y)}{a^2}\n",
    "$$\n",
    "$$ \n",
    "\\frac{\\partial^2 \\phi}{\\partial y^2} \\approx  \\frac{\\phi(x, y+a)  + \\phi(x, y-a) - 2\\phi(x, y)}{a^2}\n",
    "$$\n",
    "\n",
    "Plugging these into Laplace's equation, we get\n",
    "\n",
    "$$\n",
    "\\frac{\\phi(x + a, y)  + \\phi(x - a, y) - 2\\phi(x, y)}{a^2} + \\frac{\\phi(x, y+a)  + \\phi(x, y-a) - 2\\phi(x, y)}{a^2}  = 0\n",
    "$$\n",
    "\n",
    "Which can be rearranged to get our solution for $\\phi$\n",
    "\n",
    "$$\n",
    "\\boxed{\\phi(x, y) = \\frac{1}{4} \\left[\\phi(x + a, y)  + \\phi(x - a, y) + \\phi(x, y+a)  + \\phi(x, y-a)\\right]}\n",
    "$$\n",
    "\n",
    "Interestingly, we see that the solution at $(x, y)$ is the average of the values on the immediately adjacent points of the grid.\n",
    "\n",
    "This suggests a technique for numerically solving for $\\phi$\n",
    "1) Fix the known boundary conditions on $\\phi$\n",
    "2) Guess some initial values for the rest of $\\phi(x, y)$ (we'll just use zero)\n",
    "3) Assign each point in the grid a new value according to our averaging solution for $\\phi(x, y)$ \n",
    "4) Repeat step 3 until convergence"
   ]
  },
  {
   "cell_type": "markdown",
   "metadata": {},
   "source": [
    "Suppose that we have a 100 x 100 grid with $V = 1$, then"
   ]
  },
  {
   "cell_type": "code",
   "execution_count": 5,
   "metadata": {},
   "outputs": [],
   "source": [
    "import numpy as np\n",
    "import matplotlib.pyplot as plt"
   ]
  },
  {
   "cell_type": "code",
   "execution_count": 36,
   "metadata": {},
   "outputs": [],
   "source": [
    "N = 100          # number of grid points on a side\n",
    "V = 1.0          # voltage at top wall\n",
    "target = 1e-6    # target accuracy\n",
    "\n",
    "# phi(x, y) grid -- N+1 x N+1 to include the boundary edges as well\n",
    "phi = np.zeros([N+1,N+1],float)\n",
    "\n",
    "# set the top edge to V\n",
    "phi[0,:] = V"
   ]
  },
  {
   "cell_type": "code",
   "execution_count": 51,
   "metadata": {},
   "outputs": [],
   "source": [
    "def relaxation_slow(phi: np.ndarray, target: float) -> np.ndarray:\n",
    "    \"\"\"Relaxation function as described in the book... very slow!\"\"\"\n",
    "    N = phi.shape[0] - 1\n",
    "    delta = float(\"inf\") \n",
    "\n",
    "    # create a copy of phi to hold the updated values\n",
    "    phi_prime = phi.copy()\n",
    "    \n",
    "    while delta > target:\n",
    "        # only iterate over the interior points -- the boundary values are fixed\n",
    "        for i in range(1, N):\n",
    "            for j in range(1, N):\n",
    "                \n",
    "                # update the value of phi_prime at each point\n",
    "                phi_prime[i,j] = 0.25 * (phi[i+1,j] + phi[i-1,j] + phi[i,j+1] + phi[i,j-1])\n",
    "                \n",
    "        # get the maximum difference between phi and phi_prime\n",
    "        delta = np.max(np.abs(phi_prime - phi))\n",
    "        \n",
    "        # swap the values of phi and phi_prime\n",
    "        phi, phi_prime = phi_prime, phi\n",
    "    return phi\n",
    "\n",
    "\n",
    "\n",
    "def relaxation(phi: np.ndarray, target: float) -> np.ndarray:\n",
    "    \"\"\"Vectorized relaxation function... much faster!\"\"\"\n",
    "    N = phi.shape[0] - 1\n",
    "    delta = float(\"inf\")  \n",
    "\n",
    "    # make a copy of phi to compare the new values\n",
    "    phi_prime = phi.copy()\n",
    "    \n",
    "    while delta > target:\n",
    "        # update all interior points at once using slicing\n",
    "        phi[1:N, 1:N] = 0.25 * (phi[0:N-1, 1:N] + phi[2:N+1, 1:N] + phi[1:N, 0:N-1] + phi[1:N, 2:N+1])\n",
    "\n",
    "        # get the maximum difference between phi and phi_prime\n",
    "        delta = np.max(np.abs(phi - phi_prime))\n",
    "\n",
    "    return phi"
   ]
  },
  {
   "cell_type": "code",
   "execution_count": 53,
   "metadata": {},
   "outputs": [
    {
     "data": {
      "image/png": "[encoded data removed]",
      "text/plain": [
       "<Figure size 640x480 with 2 Axes>"
      ]
     },
     "metadata": {},
     "output_type": "display_data"
    }
   ],
   "source": [
    "phi_solution = relaxation(phi, target)\n",
    "plt.imshow(phi_solution)\n",
    "plt.colorbar()\n",
    "plt.title(r\"Electric Potential $\\phi(x, y)$\")\n",
    "plt.xlabel(\"x\")\n",
    "plt.ylabel(\"y\")\n",
    "plt.show()"
   ]
  },
  {
   "cell_type": "markdown",
   "metadata": {},
   "source": [
    "---\n",
    "\n",
    "## Overrelaxation"
   ]
  },
  {
   "cell_type": "code",
   "execution_count": null,
   "metadata": {},
   "outputs": [],
   "source": [
    "def overrelaxation():\n",
    "    ..."
   ]
  },
  {
   "cell_type": "markdown",
   "metadata": {},
   "source": [
    "---\n",
    "\n",
    "## The Gauss-Seidel method"
   ]
  },
  {
   "cell_type": "code",
   "execution_count": null,
   "metadata": {},
   "outputs": [],
   "source": [
    "def gauss_seidel():\n",
    "    ..."
   ]
  },
  {
   "cell_type": "code",
   "execution_count": null,
   "metadata": {},
   "outputs": [],
   "source": []
  },
  {
   "cell_type": "code",
   "execution_count": null,
   "metadata": {},
   "outputs": [],
   "source": []
  }
 ],
 "metadata": {
  "kernelspec": {
   "display_name": "piml",
   "language": "python",
   "name": "python3"
  },
  "language_info": {
   "codemirror_mode": {
    "name": "ipython",
    "version": 3
   },
   "file_extension": ".py",
   "mimetype": "text/x-python",
   "name": "python",
   "nbconvert_exporter": "python",
   "pygments_lexer": "ipython3",
   "version": "3.11.9"
  }
 },
 "nbformat": 4,
 "nbformat_minor": 2
}
