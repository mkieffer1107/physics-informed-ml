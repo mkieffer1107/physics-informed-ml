{
 "cells": [
  {
   "cell_type": "markdown",
   "metadata": {},
   "source": [
    "# Initial value problems"
   ]
  },
  {
   "cell_type": "markdown",
   "metadata": {},
   "source": [
    "---\n",
    "Notes following [this book](https://websites.umich.edu/~mejn/cp/index.html).\n",
    "\n",
    "Say we want to find the solution to a partial differential equation (PDE) evolves with time given some initial conditions. A common example is the 1D diffusion equation\n",
    "\n",
    "$$\n",
    "\\frac{\\partial \\phi}{\\partial t} = D \\frac{\\partial^2 \\phi}{\\partial x^2}\n",
    "$$\n",
    "\n",
    "where $D$ is the diffusion coefficient and $\\phi(x, t)$ depends on both position $x$ and time $t$. Well, in the [boundary value notebook](boundary.ipynb), we found that we could solve for PDEs with functions of the form $f(x, y)$ (two independent variables) by laying out a grid of discrete points in "
   ]
  }
 ],
 "metadata": {
  "kernelspec": {
   "display_name": "piml",
   "language": "python",
   "name": "python3"
  },
  "language_info": {
   "name": "python",
   "version": "3.11.9"
  }
 },
 "nbformat": 4,
 "nbformat_minor": 2
}
