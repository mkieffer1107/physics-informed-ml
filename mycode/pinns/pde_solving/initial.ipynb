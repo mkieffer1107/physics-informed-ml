{
 "cells": [
  {
   "cell_type": "markdown",
   "metadata": {},
   "source": [
    "# Initial value problems"
   ]
  },
  {
   "cell_type": "markdown",
   "metadata": {},
   "source": [
    "---\n",
    "Notes following [this book](https://websites.umich.edu/~mejn/cp/index.html).\n",
    "\n",
    "Say we want to find the solution to a partial differential equation (PDE) evolves with time given some initial conditions. A common example is the 1D diffusion equation\n",
    "\n",
    "$$\n",
    "\\frac{\\partial \\phi}{\\partial t} = D \\frac{\\partial^2 \\phi}{\\partial x^2}\n",
    "$$\n",
    "\n",
    "where $D$ is the diffusion coefficient and $\\phi(x, t)$ depends on both position $x$ and time $t$. Well, in the [boundary value notebook](boundary.ipynb), we found that we could solve for PDEs with functions of the form $f(x, y)$ (two independent variables) by laying out a grid of discrete points, defining the values on the boundaries, and relaxing the system toward a solution. So we might imagine that we could do the same with time. For the 1D example above, we would have a line of spaced out $x$ values that we could drag downward in time $t$ to create a similar grid of points $\\{(x, t)\\}$. This, however, will not work because we do not know all of the boundary conditions for the system. We would know the boundary conditions at the top of the grid at $t = 0$ -- these are our initial conditions -- but we would not know the boundary conditions at the bottom of the grid, as they occur at a point in time that we have not observed yet! The whole point of initial value problems is to find out how our solution evolves with time! So we need to try something else."
   ]
  },
  {
   "cell_type": "markdown",
   "metadata": {},
   "source": [
    "---\n",
    "\n",
    "# The FTCS method (forward-time centered-space)"
   ]
  },
  {
   "cell_type": "markdown",
   "metadata": {},
   "source": [
    "For our 1D diffusion equation we start by dividing the spatial dimension, $x$, into a grid of discrete points. This is simply a line along the $x$-axis with evenly spaced points a distance $a$ apart. \n",
    "\n",
    "First, we'll rewrite the spatial derivative second derivative as\n",
    "\n",
    "$$\n",
    "\\frac{\\partial^2 \\phi}{\\partial x^2} = \\frac{\\phi(x + a, t) + \\phi (x - a, t)- 2\\phi(x, t)}{a^2}\n",
    "$$\n",
    "\n",
    "For more information on how we got this, see the [numerical differentiation interlude](./boundary.ipynb#numerical_differentiation) in the previous notebook. So the diffusion equation becomes\n",
    "\n",
    "$$\n",
    "\\frac{\\partial \\phi}{\\partial t} = \\frac{D}{a^2}  [\\phi(x + a, t) + \\phi (x - a, t)- 2\\phi(x, t)]\n",
    "$$\n",
    "\n",
    "Recall that $\\phi(x, t)$ is a function of its location on the $x$-axis and the time. If we confine ourselves to a single value of $x$, and observe how the solution changes with time, we might as well write\n",
    "\n",
    "$$\n",
    "\\phi(x, t) = \\phi(t) |_x \n",
    "$$\n",
    "\n",
    "So we have something like\n",
    "\n",
    "$$\n",
    "\\frac{d \\phi}{d t} = \\frac{D}{a^2} [\\phi(t)|_{x + a} + \\phi (t)|_{x - a}- 2\\phi(t)|_x]\n",
    "$$\n",
    "\n",
    "which looks an awful lot like an ordinary differential equation. In fact, this is exactly the approach we'll take! We can think of the $x$ grid point solutions as a set of simultaneous ODEs evolving with time. The only catch is that each solution for a point at $x$ depends on its immediate adjacent neighbors at $x \\pm a$. This idea can be extended to functions like $f(x, y, t)$, $f(x, y, z, t)$, etc., where instead of using a line of points, we would use a grid, lattice, etc. of simultaneous ODEs.\n",
    "\n",
    "Because we're now dealing with ODEs, we can use Euler's method, a Runge-Kutta method, etc. for solving them. In our case, we'll go with Euler's method even though it is typically less accurate than a Runge-Kutta method (it is a first-order RK method). Why? Well, the spatial second derivative approximation we made for $\\frac{\\partial^2 \\phi}{\\partial x^2}$ introduced second-order errors. So for an input $x$, the RHS will already not be very accurate. This means that solving the differential equation in $t$, $\\frac{\\partial \\phi}{\\partial t}$, will not be very accurate either. Euler's method contains second-order errors that are comparable in size to those coming from the second derivative, so we might as well use it since its simple.\n",
    "\n",
    "Recall that Euler's method for solving a differential equation of the form\n",
    "\n",
    "$$\n",
    "\\frac{d\\phi}{dt} = f(\\phi, t)\n",
    "$$\n",
    "\n",
    "is to Taylor expand $\\phi(t)$ about time $t$ and write\n",
    "\n",
    "$$\n",
    "\\phi(t + h) \\approx \\phi(t) + h \\frac{d\\phi}{dt} = \\phi(t) + h f(\\phi, t)\n",
    "$$\n",
    "\n",
    "Applying this to our diffusion equation, we have\n",
    "\n",
    "$$\n",
    "\\phi(x, t + h) \\approx \\phi(x, t) + h \\frac{D}{a^2}  [\\phi(x + a, t) + \\phi (x - a, t)- 2\\phi(x, t)]\n",
    "$$\n",
    "\n",
    "So if we know the value of $\\phi$ at every grid point $x$ at some time $t$, then this equation tells us the value at every grid point at time $t + h$."
   ]
  },
  {
   "cell_type": "markdown",
   "metadata": {},
   "source": [
    "---\n",
    "\n",
    "# Heat equation example"
   ]
  },
  {
   "cell_type": "markdown",
   "metadata": {},
   "source": [
    "Let's apply this to a simple example using the heat (diffusion) equation\n",
    "\n",
    "$$\n",
    "\\frac{\\partial T}{\\partial t} = D \\frac{\\partial^2 T}{\\partial x^2}\n",
    "$$\n",
    "\n",
    "Suppose we have a stainless steel barrier $1$ cm thick initially at $20^\\circ\\text{C}$ everywhere. We then place cold water at $0^\\circ\\text{C}$ below it, and hot water at $50^\\circ\\text{C}$ above it. Thermal conduction is governed by the heat equation, so we can solve the 1D heat equation for the temperature $T(x)$ as a function of its position between the two water bodies. \n",
    "\n",
    "We will divide the $x$-axis region between the water into 100 equal grid intervals, meaning that there are 101 grid points dividing them. The temperatures at $x=0$ and $x=100$ are fixed at $T(0) = 50^\\circ\\text{C}$ and $T(100) = 0^\\circ\\text{C}$, respectively. Everywhere in between starts at $T(x) = 20^\\circ\\text{C}$, and is allowed to change with time. We could also have the points at the end change with time as well (water cooling / heating), but we won't for this example. The thermal diffusivity for stainless steel is $D = 4.25 \\times 10^{-6} m^2 s^{-1}$.\n",
    "\n",
    "We'll plot the spatial temperature profiles at 5 different times to see how they change."
   ]
  },
  {
   "cell_type": "code",
   "execution_count": null,
   "metadata": {},
   "outputs": [],
   "source": [
    "import numpy as np\n",
    "import matplotlib.pyplot as plt"
   ]
  },
  {
   "cell_type": "code",
   "execution_count": null,
   "metadata": {},
   "outputs": [],
   "source": [
    "# constants\n",
    "L = 0.01          # thickness of steel in m\n",
    "D = 4.25e-6       # thermal diffusivity of steel in m^2/s\n",
    "N = 100           # number of divisions in grid\n",
    "a = L/N           # grid spacing\n",
    "h = 1e-4          # time-step\n",
    "epsilon = h/1000  # small number to prevent division by zero\n",
    "\n",
    "# initial conditions\n",
    "Tlo = 0.0         # temperature at left end\n",
    "Tmid = 20.0       # temperature at middle\n",
    "Thi = 50.0        # temperature at right end\n",
    "\n",
    "# times to plot\n",
    "t1 = 0.01           \n",
    "t2 = 0.1            \n",
    "t3 = 0.4            \n",
    "t4 = 1.0            \n",
    "t5 = 10.0           \n",
    "tend = t5 + epsilon "
   ]
  },
  {
   "cell_type": "code",
   "execution_count": null,
   "metadata": {},
   "outputs": [],
   "source": [
    "# set up the temperature array\n",
    "T = np.empty(N+1,float) \n",
    "T[0] = Thi\n",
    "T[1: N] = Tmid\n",
    "T[N] = Tlo\n",
    "\n",
    "# temporary array for the new temperature\n",
    "Tp = np.empty(N+1,float) \n",
    "Tp[0] = Thi\n",
    "Tp[N] = Tlo"
   ]
  },
  {
   "cell_type": "markdown",
   "metadata": {},
   "source": [
    "We see that the temperature is hotter near the warm water source and cooler near the cold water source. At first, the temperature of the intermediate region is constant and flat according to our initial conditions. However, as time goes on a gradient appears between the high and low temperatures.\n",
    "\n",
    "If the heat sources were also allowed to change temperature, then we would see the entire system move toward a flat, equilibrium temperature."
   ]
  },
  {
   "cell_type": "code",
   "execution_count": null,
   "metadata": {},
   "outputs": [],
   "source": [
    "t = 0.0\n",
    "c = h*D/(a*a)   # prefactor\n",
    "while t < tend:\n",
    "    # calculate the new values of T\n",
    "    Tp[1:N] = T[1:N] + c*(T[2:N+1] + T[0:N-1] - 2*T[1:N])\n",
    "    # for i in range(1,N):\n",
    "    #     Tp[i] = T[i] + c*(T[i+1] + T[i-1] - 2*T[i])\n",
    "    T,Tp = Tp,T\n",
    "    t += h\n",
    "\n",
    "    # t is a float, so comparisons are made by checking if the difference is less than epsilon\n",
    "    if abs(t-t1)<epsilon:\n",
    "        plt.plot(T, label=\"t=0.01\")\n",
    "    if abs(t-t2)<epsilon:\n",
    "        plt.plot(T, label=\"t=0.1\")\n",
    "    if abs(t-t3)<epsilon:\n",
    "        plt.plot(T, label=\"t=0.4\")\n",
    "    if abs(t-t4)<epsilon:\n",
    "        plt.plot(T, label=\"t=1.0\")\n",
    "    if abs(t-t5)<epsilon:\n",
    "        plt.plot(T, label=\"t=10.0\")\n",
    "plt.legend()\n",
    "plt.grid(True)\n",
    "plt.xlabel(\"Position in the bar (m)\")\n",
    "plt.ylabel(\"Temperature (°C)\")\n",
    "plt.show()"
   ]
  },
  {
   "cell_type": "markdown",
   "metadata": {},
   "source": [
    "Let's make a cool animation! This time, we'll let `T` be an array of shape (T, N+1), where N+1 is the number of grid points to measure the temperature (N = number of intervals), and T is the total number of time steps. This way, we can save the temperature history at every point along the $x$-axis. `T[t]` gives the temperature profile at a time `t`."
   ]
  },
  {
   "cell_type": "code",
   "execution_count": null,
   "metadata": {},
   "outputs": [],
   "source": [
    "# constants\n",
    "L = 0.01                # thickness of steel in m\n",
    "D = 4.25e-6             # thermal diffusivity of steel in m^2/s\n",
    "N = 100                 # number of divisions in grid\n",
    "a = L/N                 # grid spacing\n",
    "h = 1e-4                # time-step size\n",
    "c = h*D/(a*a)           # diffusion prefactor\n",
    "tend = 10.0             # time to run to\n",
    "num_steps = int(tend/h) # number of time-steps\n",
    "\n",
    "# initial conditions\n",
    "Tlo = 0.0         # temperature at left end\n",
    "Tmid = 20.0       # temperature at middle\n",
    "Thi = 50.0        # temperature at right end\n",
    "\n",
    "# set up the temperature array\n",
    "T = np.empty((num_steps, N+1), float)\n",
    "T[:, 0] = Thi           # the first column is fixed in time\n",
    "T[0, 1:N] = Tmid       # only set the first row to initial conditions \n",
    "T[:, N] = Tlo           # the last column is fixed in time\n",
    "T.shape"
   ]
  },
  {
   "cell_type": "code",
   "execution_count": null,
   "metadata": {},
   "outputs": [],
   "source": [
    "for t in range(1, num_steps):\n",
    "    # calculate the new values of T\n",
    "    # the current time step, t, is calculated from the previous time step, t-1\n",
    "    T[t, 1:N] = T[t-1, 1:N] + c*(T[t-1, 2:N+1] + T[t-1, 0:N-1] - 2*T[t-1, 1:N])"
   ]
  },
  {
   "cell_type": "markdown",
   "metadata": {},
   "source": [
    "The gif can be found [here](diffusion.gif)."
   ]
  },
  {
   "cell_type": "code",
   "execution_count": null,
   "metadata": {},
   "outputs": [],
   "source": [
    "from matplotlib import animation\n",
    "from IPython.display import HTML\n",
    "\n",
    "# create a figure with two subplots\n",
    "# fig, (ax1, ax2) = plt.subplots(1, 2, figsize=(12, 4))\n",
    "fig, (ax1, ax2) = plt.subplots(2, 1, figsize=(6, 8))\n",
    "\n",
    "fig.suptitle(\"Temperature evolution in a steel bar\")\n",
    "\n",
    "# initialize the line object for the animated plot\n",
    "line, = ax1.plot([], [], \"r-\", label=\"Temperature\")\n",
    "\n",
    "# set the limits and labels for the animated plot\n",
    "ax1.set_xlim(0, L)\n",
    "ax1.set_ylim(0, Thi)\n",
    "# ax1.set_xlabel(\"Position in the bar (m)\")\n",
    "ax1.xaxis.set_visible(False)\n",
    "ax1.set_ylabel(\"Temperature (°C)\")\n",
    "ax1.grid(True)\n",
    "\n",
    "# initialize the image object for the temperature history\n",
    "im = ax2.imshow(np.zeros((1, N+1)), cmap=\"hot\", aspect=\"auto\", extent=[0, L, 0, 1], vmin=Tlo, vmax=Thi)\n",
    "ax2.set_xlabel(\"Position in the bar (m)\")\n",
    "# cbar_ax = fig.add_axes([0.05, 0.1, 0.03, 0.35])\n",
    "# cbar = fig.colorbar(im, cax=cbar_ax)\n",
    "ax2.yaxis.set_visible(False)\n",
    "\n",
    "# initialize the text object for the current time\n",
    "time_text = ax1.text(0.98, 0.95, \"\", transform=ax1.transAxes, ha='right')\n",
    "\n",
    "# function to initialize the animation\n",
    "def init():\n",
    "    im.set_data(np.zeros((1, N+1)))\n",
    "    line.set_data([], [])\n",
    "    time_text.set_text(\"\")\n",
    "    return im, line, time_text\n",
    "\n",
    "# function to update the animation at each frame\n",
    "def animate(frame):\n",
    "    x = np.linspace(0, L, N+1)\n",
    "    y = T[frame]\n",
    "    im.set_data([y])\n",
    "    line.set_data(x, y)\n",
    "    time_text.set_text(f\"Time: {frame*h:.2f} s\")\n",
    "    return im, line, time_text\n",
    "\n",
    "# select a subset of frames to animate\n",
    "frame_step = 500                 # number of time steps between frames\n",
    "max_frame = int(num_steps/2.2)   # the solution converges before the end, so don't animate the whole thing\n",
    "frames = range(0, max_frame, frame_step)\n",
    "\n",
    "# create the animation\n",
    "anim = animation.FuncAnimation(fig, animate, frames=frames, init_func=init,\n",
    "                               interval=50, blit=True)\n",
    "\n",
    "# save the animation as an HTML file\n",
    "html_animation = anim.to_jshtml()\n",
    "\n",
    "# save the animation as a gif file\n",
    "anim.save(\"diffusion.gif\", writer=\"pillow\", fps=30)\n",
    "\n",
    "# display the animation in the notebook\n",
    "plt.tight_layout()\n",
    "plt.close()  # close the static plot\n",
    "HTML(html_animation)"
   ]
  },
  {
   "cell_type": "markdown",
   "metadata": {},
   "source": [
    "---\n",
    "\n",
    "# FTCS numerical instability"
   ]
  },
  {
   "cell_type": "markdown",
   "metadata": {},
   "source": [
    "We can try out the FTCS method again, but this time on the wave equation. We'll see that it will fail spectacularly over time for reasons we'll very briefly discuss later. Given $\\phi(x, t)$, the 1D wave equation is \n",
    "\n",
    "\n",
    "$$\n",
    "\\frac{\\partial^2 \\phi}{\\partial t^2} = \\nu^2 \\frac{\\partial^2 \\phi}{\\partial x^2}\n",
    "$$\n",
    "\n",
    "and describes the propagation of a wave, say, over a rope. As before, we will first approximate the spatial second derivative \n",
    "\n",
    "$$\n",
    "\\frac{d^2 \\phi}{d t^2} = \\frac{\\nu^2}{a^2}[\\phi(x+a, t) + \\phi(x - a, t) - 2 \\phi(x, t)]\n",
    "$$\n",
    "\n",
    "Unlike the diffusion equation above, the wave equation has a second derivative in time on the LHS. Because of this, we'll have to split it up into two first-order ODEs in order to solve it. We will define a new variable $\\psi$ and decompose the above equation into\n",
    "\n",
    "\\begin{align*}\n",
    "\\frac{d \\phi}{dt} &= \\psi(x, t) \\\\\n",
    "\\frac{d \\psi}{dt} &= \\frac{\\nu^2}{a^2}[\\phi(x+a, t) + \\phi(x - a, t) - 2 \\phi(x, t)]\n",
    "\\end{align*}\n",
    "\n",
    "Next, we'll simply apply Euler's method to each of the equations to solve for the respective values at a time $t+h$\n",
    "\n",
    "\\begin{align*}\n",
    "\\phi(x, t+h) &= \\phi(x, t) + h \\frac{d \\phi}{dt} = \\phi(x, t) + h  \\psi(x, t)\\\\\n",
    "\\psi(x, t+h) &= \\psi(x, t) + h \\frac{d \\psi}{dt} = \\psi(x, t) + h\\frac{\\nu^2}{a^2}[\\phi(x+a, t) + \\phi(x - a, t) - 2 \\phi(x, t)]\n",
    "\\end{align*}\n",
    "\n",
    "To be clear, $\\phi(x, t)$ is the displacement of the wave at point $x$ at time $t$. In other words, it gives the instantaneous amplitude of the wave. $\\psi(x, t)$ is the time derivative of $\\phi$, making it the rate of change / velocity of the displacement. It tells us how quickly the string moves up or down at a point $x$ at time $t$. Now we can apply FTCS to an example system and see what happens. \n",
    "\n",
    "Suppose we have a string of length $L$ that we strike at time $t = 0$. The wave will propagate at $\\nu = 100 \\text{ ms}^{-1}$ with the initial condition that $\\phi(x, t=0) = 0$ everywhere, meaning that the string is flat. The velocity $\\psi(x, t=0)$ is nonzero, with profile\n",
    "\n",
    "$$\n",
    "\\psi(x, t) = C \\frac{x(L-x)}{L^2} \\exp \\left[-\\frac{(x-d)^2}{2 \\sigma^2} \\right]\n",
    "$$\n",
    "\n",
    "where $L = 1$ m, $d = 10$ cm, $C = 1 \\text{ ms}^{-1}$, and $\\sigma = 0.3$ m. The string is bounded at its ends $x=0$ and $x = L$."
   ]
  },
  {
   "cell_type": "code",
   "execution_count": null,
   "metadata": {},
   "outputs": [],
   "source": [
    "# constants\n",
    "L = 1.0                       # length of string in m\n",
    "d = 0.1                       # distance from x=0 in m\n",
    "nu = 100                      # wave speed in m/s\n",
    "C = 1.0                       # amplitude of wave in m/s\n",
    "N = 200                       # number of grid divisions\n",
    "sigma = 0.3                   # standard deviation of Gaussian pulse\n",
    "a = L/N                       # grid spacing in m\n",
    "h = 5.0005e-5                 # time step size in s\n",
    "total_time = 100.0e-3         # time to run to in s\n",
    "num_steps = int(total_time/h) # number of time steps\n",
    "\n",
    "# get a grid of x values\n",
    "# x_grid = np.linspace(0, L, N+1)\n",
    "x_grid = np.arange(0, L+a, a)    # so we can use a :)  \n",
    "\n",
    "# grid of initial displacement values -- all zeros\n",
    "# we initialize it as (num_steps, N+1) to store the values at each time step\n",
    "phi_grid = np.zeros((num_steps, N+1), float)\n",
    "\n",
    "# velocity profile\n",
    "def psi(x: float, d:float, sigma:float, C:float, L:float) -> float:\n",
    "    return C * x*(L - x)/L**2 * np.exp(-(x-d)**2 / (2*sigma**2))\n",
    "\n",
    "# set the initial velocity profile at t = 0 based on the x positions\n",
    "psi_grid = np.zeros((num_steps, N+1), float)\n",
    "psi_grid[0] = psi(x_grid, d, sigma, C, L)\n",
    "\n",
    "psi_grid.shape"
   ]
  },
  {
   "cell_type": "markdown",
   "metadata": {},
   "source": [
    "First, let's visualize that initial velocity profile at time $t = 0$."
   ]
  },
  {
   "cell_type": "code",
   "execution_count": null,
   "metadata": {},
   "outputs": [],
   "source": [
    "plt.plot(x_grid, psi_grid[0])\n",
    "plt.title(r\"Velocity profile $\\psi(x)$ of a Gaussian pulse at $t=0$\")\n",
    "plt.xlabel(\"Position (m)\")\n",
    "plt.ylabel(\"Velocity (m/s)\")\n",
    "plt.grid(True)\n",
    "plt.show()"
   ]
  },
  {
   "cell_type": "markdown",
   "metadata": {},
   "source": [
    "I found that this was taking forever to animate in a notebook, so you can find the the code [here](wave_equation.py). The corresponding gif is [here](wave.gif).\n",
    "\n"
   ]
  },
  {
   "cell_type": "code",
   "execution_count": null,
   "metadata": {},
   "outputs": [],
   "source": [
    "from IPython.display import Image\n",
    "Image(url='wave.gif')"
   ]
  },
  {
   "cell_type": "code",
   "execution_count": null,
   "metadata": {},
   "outputs": [],
   "source": []
  }
 ],
 "metadata": {
  "kernelspec": {
   "display_name": "piml",
   "language": "python",
   "name": "python3"
  },
  "language_info": {
   "codemirror_mode": {
    "name": "ipython",
    "version": 3
   },
   "file_extension": ".py",
   "mimetype": "text/x-python",
   "name": "python",
   "nbconvert_exporter": "python",
   "pygments_lexer": "ipython3",
   "version": "3.11.9"
  }
 },
 "nbformat": 4,
 "nbformat_minor": 2
}
